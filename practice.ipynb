{
 "cells": [
  {
   "attachments": {},
   "cell_type": "markdown",
   "metadata": {},
   "source": [
    "# Dataset loading script for HotpotQA QG"
   ]
  },
  {
   "cell_type": "code",
   "execution_count": 1,
   "metadata": {},
   "outputs": [
    {
     "name": "stderr",
     "output_type": "stream",
     "text": [
      "Found cached dataset hotpot_qa (/home/deokhk/.cache/huggingface/datasets/hotpot_qa/distractor/1.0.0/133b9501f892e5193babbad937bee3b4899deb4691ef4d791e6ac0111c875bb5)\n"
     ]
    },
    {
     "data": {
      "application/vnd.jupyter.widget-view+json": {
       "model_id": "b5155d9052db4ce0bf6d6866c7c5cfa0",
       "version_major": 2,
       "version_minor": 0
      },
      "text/plain": [
       "  0%|          | 0/2 [00:00<?, ?it/s]"
      ]
     },
     "metadata": {},
     "output_type": "display_data"
    }
   ],
   "source": [
    "from datasets import load_dataset \n",
    "\n",
    "hotpotqa_distractor = load_dataset(\"hotpot_qa\",\"distractor\")"
   ]
  },
  {
   "cell_type": "code",
   "execution_count": 2,
   "metadata": {},
   "outputs": [],
   "source": [
    "single_datapoint = hotpotqa_distractor[\"train\"][0]\n",
    "\n",
    "question = single_datapoint[\"question\"]\n",
    "answer = single_datapoint[\"answer\"]\n",
    "supporting_facts = single_datapoint[\"supporting_facts\"]\n",
    "context = single_datapoint[\"context\"]"
   ]
  },
  {
   "cell_type": "code",
   "execution_count": 3,
   "metadata": {},
   "outputs": [],
   "source": [
    "title_to_contextidx = dict()\n",
    "for idx, context_title in enumerate(context[\"title\"]):\n",
    "    title_to_contextidx[context_title] = idx"
   ]
  },
  {
   "cell_type": "code",
   "execution_count": 7,
   "metadata": {},
   "outputs": [],
   "source": [
    "qg_context = \"\"\n",
    "sp_titles = supporting_facts[\"title\"]\n",
    "sp_sent_ids = supporting_facts[\"sent_id\"]\n",
    "\n",
    "for sp_title, sp_sent_id in zip(sp_titles, sp_sent_ids):\n",
    "    contextidx = title_to_contextidx[sp_title]\n",
    "    corresponding_sp = context[\"sentences\"][contextidx][sp_sent_id]\n",
    "    qg_context += (corresponding_sp +\" \")\n"
   ]
  },
  {
   "cell_type": "code",
   "execution_count": 11,
   "metadata": {},
   "outputs": [],
   "source": [
    "# highlight answer \n",
    "answer_start_idx = qg_context.find(answer)\n",
    "answer_end_idx = answer_start_idx + len(answer)\n",
    "\n",
    "que_gen_input = f\"generate question: {qg_context[:answer_start_idx]} <hl> {answer} <hl> {qg_context[answer_end_idx:]}\"\n"
   ]
  },
  {
   "cell_type": "code",
   "execution_count": 12,
   "metadata": {},
   "outputs": [
    {
     "data": {
      "text/plain": [
       "\"generate question:  <hl> Arthur's Magazine <hl>  (1844–1846) was an American literary periodical published in Philadelphia in the 19th century. First for Women is a woman's magazine published by Bauer Media Group in the USA. \""
      ]
     },
     "execution_count": 12,
     "metadata": {},
     "output_type": "execute_result"
    }
   ],
   "source": [
    "que_gen_input"
   ]
  },
  {
   "cell_type": "code",
   "execution_count": 14,
   "metadata": {},
   "outputs": [],
   "source": [
    "que_gen_target = question "
   ]
  },
  {
   "cell_type": "code",
   "execution_count": null,
   "metadata": {},
   "outputs": [],
   "source": []
  }
 ],
 "metadata": {
  "kernelspec": {
   "display_name": "AGC",
   "language": "python",
   "name": "python3"
  },
  "language_info": {
   "codemirror_mode": {
    "name": "ipython",
    "version": 3
   },
   "file_extension": ".py",
   "mimetype": "text/x-python",
   "name": "python",
   "nbconvert_exporter": "python",
   "pygments_lexer": "ipython3",
   "version": "3.10.8"
  },
  "orig_nbformat": 4,
  "vscode": {
   "interpreter": {
    "hash": "be44ec33a98046c925f7f56692942512b4324c84f2673a87fc7950b178cbaf0e"
   }
  }
 },
 "nbformat": 4,
 "nbformat_minor": 2
}
